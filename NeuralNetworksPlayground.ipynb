{
 "cells": [
  {
   "cell_type": "markdown",
   "id": "fd352559-0ec2-4be1-9af9-ddba8d8f3171",
   "metadata": {},
   "source": [
    "# The Neural Networks Playground Project"
   ]
  },
  {
   "cell_type": "code",
   "execution_count": 10,
   "id": "77402b5a-e721-440d-b6da-aa9cecdcfd47",
   "metadata": {},
   "outputs": [],
   "source": [
    "import numpy as np\n",
    "import pandas as pd\n",
    "from NeuralNetwork import NeuralNetwork"
   ]
  },
  {
   "cell_type": "code",
   "execution_count": null,
   "id": "5b307141-b5c3-4a58-a73f-79b3abcad7b5",
   "metadata": {},
   "outputs": [],
   "source": [
    "Binary2DecimalNN = NeuralNetwork(2, (3, 2), 4)"
   ]
  },
  {
   "cell_type": "code",
   "execution_count": null,
   "id": "105c3ac5-51a5-467b-bd08-0e57fbc477b7",
   "metadata": {},
   "outputs": [],
   "source": [
    "neural_network_description = f\"\"\"This Neural Network has {Binary2DecimalNN.number_of_inputs} inputs, {Binary2DecimalNN.number_of_outputs} outputs, {Binary2DecimalNN.number_of_dense_layers} dense layers and {Binary2DecimalNN.neurons_per_layer} neurons per layer.\"\"\"\n",
    "\n",
    "print(neural_network_description)"
   ]
  },
  {
   "cell_type": "code",
   "execution_count": 11,
   "id": "ae318fb1-37b5-4568-b3ea-8f2769cbabd2",
   "metadata": {},
   "outputs": [
    {
     "data": {
      "text/html": [
       "<div>\n",
       "<style scoped>\n",
       "    .dataframe tbody tr th:only-of-type {\n",
       "        vertical-align: middle;\n",
       "    }\n",
       "\n",
       "    .dataframe tbody tr th {\n",
       "        vertical-align: top;\n",
       "    }\n",
       "\n",
       "    .dataframe thead th {\n",
       "        text-align: right;\n",
       "    }\n",
       "</style>\n",
       "<table border=\"1\" class=\"dataframe\">\n",
       "  <thead>\n",
       "    <tr style=\"text-align: right;\">\n",
       "      <th></th>\n",
       "      <th>x_0</th>\n",
       "      <th>x_1</th>\n",
       "      <th>x_2</th>\n",
       "      <th>y_0</th>\n",
       "      <th>y_1</th>\n",
       "      <th>y_2</th>\n",
       "      <th>y_3</th>\n",
       "      <th>y_4</th>\n",
       "      <th>y_5</th>\n",
       "      <th>y_6</th>\n",
       "      <th>y_7</th>\n",
       "    </tr>\n",
       "  </thead>\n",
       "  <tbody>\n",
       "    <tr>\n",
       "      <th>0</th>\n",
       "      <td>0</td>\n",
       "      <td>0</td>\n",
       "      <td>0</td>\n",
       "      <td>1</td>\n",
       "      <td>0</td>\n",
       "      <td>0</td>\n",
       "      <td>0</td>\n",
       "      <td>0</td>\n",
       "      <td>0</td>\n",
       "      <td>0</td>\n",
       "      <td>0</td>\n",
       "    </tr>\n",
       "    <tr>\n",
       "      <th>1</th>\n",
       "      <td>0</td>\n",
       "      <td>0</td>\n",
       "      <td>1</td>\n",
       "      <td>0</td>\n",
       "      <td>1</td>\n",
       "      <td>0</td>\n",
       "      <td>0</td>\n",
       "      <td>0</td>\n",
       "      <td>0</td>\n",
       "      <td>0</td>\n",
       "      <td>0</td>\n",
       "    </tr>\n",
       "    <tr>\n",
       "      <th>2</th>\n",
       "      <td>0</td>\n",
       "      <td>1</td>\n",
       "      <td>0</td>\n",
       "      <td>0</td>\n",
       "      <td>0</td>\n",
       "      <td>1</td>\n",
       "      <td>0</td>\n",
       "      <td>0</td>\n",
       "      <td>0</td>\n",
       "      <td>0</td>\n",
       "      <td>0</td>\n",
       "    </tr>\n",
       "    <tr>\n",
       "      <th>3</th>\n",
       "      <td>0</td>\n",
       "      <td>1</td>\n",
       "      <td>1</td>\n",
       "      <td>0</td>\n",
       "      <td>0</td>\n",
       "      <td>0</td>\n",
       "      <td>1</td>\n",
       "      <td>0</td>\n",
       "      <td>0</td>\n",
       "      <td>0</td>\n",
       "      <td>0</td>\n",
       "    </tr>\n",
       "    <tr>\n",
       "      <th>4</th>\n",
       "      <td>1</td>\n",
       "      <td>0</td>\n",
       "      <td>0</td>\n",
       "      <td>0</td>\n",
       "      <td>0</td>\n",
       "      <td>0</td>\n",
       "      <td>0</td>\n",
       "      <td>1</td>\n",
       "      <td>0</td>\n",
       "      <td>0</td>\n",
       "      <td>0</td>\n",
       "    </tr>\n",
       "    <tr>\n",
       "      <th>5</th>\n",
       "      <td>1</td>\n",
       "      <td>0</td>\n",
       "      <td>1</td>\n",
       "      <td>0</td>\n",
       "      <td>0</td>\n",
       "      <td>0</td>\n",
       "      <td>0</td>\n",
       "      <td>0</td>\n",
       "      <td>1</td>\n",
       "      <td>0</td>\n",
       "      <td>0</td>\n",
       "    </tr>\n",
       "    <tr>\n",
       "      <th>6</th>\n",
       "      <td>1</td>\n",
       "      <td>1</td>\n",
       "      <td>0</td>\n",
       "      <td>0</td>\n",
       "      <td>0</td>\n",
       "      <td>0</td>\n",
       "      <td>0</td>\n",
       "      <td>0</td>\n",
       "      <td>0</td>\n",
       "      <td>1</td>\n",
       "      <td>0</td>\n",
       "    </tr>\n",
       "    <tr>\n",
       "      <th>7</th>\n",
       "      <td>1</td>\n",
       "      <td>1</td>\n",
       "      <td>1</td>\n",
       "      <td>0</td>\n",
       "      <td>0</td>\n",
       "      <td>0</td>\n",
       "      <td>0</td>\n",
       "      <td>0</td>\n",
       "      <td>0</td>\n",
       "      <td>0</td>\n",
       "      <td>1</td>\n",
       "    </tr>\n",
       "  </tbody>\n",
       "</table>\n",
       "</div>"
      ],
      "text/plain": [
       "   x_0  x_1  x_2  y_0  y_1  y_2  y_3  y_4  y_5  y_6  y_7\n",
       "0    0    0    0    1    0    0    0    0    0    0    0\n",
       "1    0    0    1    0    1    0    0    0    0    0    0\n",
       "2    0    1    0    0    0    1    0    0    0    0    0\n",
       "3    0    1    1    0    0    0    1    0    0    0    0\n",
       "4    1    0    0    0    0    0    0    1    0    0    0\n",
       "5    1    0    1    0    0    0    0    0    1    0    0\n",
       "6    1    1    0    0    0    0    0    0    0    1    0\n",
       "7    1    1    1    0    0    0    0    0    0    0    1"
      ]
     },
     "execution_count": 11,
     "metadata": {},
     "output_type": "execute_result"
    }
   ],
   "source": [
    "data = {\"x_0\": [0, 0, 0, 0, 1, 1, 1, 1],\n",
    "        \"x_1\": [0, 0, 1, 1, 0, 0, 1, 1],\n",
    "        \"x_2\": [0, 1, 0, 1, 0, 1, 0, 1],\n",
    "        \"y_0\": [1, 0, 0, 0, 0, 0, 0, 0],\n",
    "        \"y_1\": [0, 1, 0, 0, 0, 0, 0, 0],\n",
    "        \"y_2\": [0, 0, 1, 0, 0, 0, 0, 0],\n",
    "        \"y_3\": [0, 0, 0, 1, 0, 0, 0, 0],\n",
    "        \"y_4\": [0, 0, 0, 0, 1, 0, 0, 0],\n",
    "        \"y_5\": [0, 0, 0, 0, 0, 1, 0, 0],\n",
    "        \"y_6\": [0, 0, 0, 0, 0, 0, 1, 0],\n",
    "        \"y_7\": [0, 0, 0, 0, 0, 0, 0, 1]}\n",
    "\n",
    "dataset = pd.DataFrame(data)\n",
    "\n",
    "dataset"
   ]
  },
  {
   "cell_type": "code",
   "execution_count": 12,
   "id": "9e324972-ff16-4297-976d-230e75c33807",
   "metadata": {},
   "outputs": [],
   "source": [
    "x = dataset[[\"x_0\", \"x_1\", \"x_2\"]]\n",
    "y = dataset[[c for c in dataset.columns if c not in x.columns]]\n",
    "\n",
    "x = x.to_numpy()\n",
    "y = y.to_numpy()"
   ]
  },
  {
   "cell_type": "code",
   "execution_count": 13,
   "id": "b1aeac10-0044-4c80-a9dc-74d2337a5f58",
   "metadata": {},
   "outputs": [
    {
     "data": {
      "text/plain": [
       "array([[0, 0, 0],\n",
       "       [0, 0, 1],\n",
       "       [0, 1, 0],\n",
       "       [0, 1, 1],\n",
       "       [1, 0, 0],\n",
       "       [1, 0, 1],\n",
       "       [1, 1, 0],\n",
       "       [1, 1, 1]], dtype=int64)"
      ]
     },
     "execution_count": 13,
     "metadata": {},
     "output_type": "execute_result"
    }
   ],
   "source": [
    "x"
   ]
  },
  {
   "cell_type": "code",
   "execution_count": 14,
   "id": "727aff65-5f85-4dfa-a672-ad8b5cedb586",
   "metadata": {},
   "outputs": [
    {
     "data": {
      "text/plain": [
       "array([[1, 0, 0, 0, 0, 0, 0, 0],\n",
       "       [0, 1, 0, 0, 0, 0, 0, 0],\n",
       "       [0, 0, 1, 0, 0, 0, 0, 0],\n",
       "       [0, 0, 0, 1, 0, 0, 0, 0],\n",
       "       [0, 0, 0, 0, 1, 0, 0, 0],\n",
       "       [0, 0, 0, 0, 0, 1, 0, 0],\n",
       "       [0, 0, 0, 0, 0, 0, 1, 0],\n",
       "       [0, 0, 0, 0, 0, 0, 0, 1]], dtype=int64)"
      ]
     },
     "execution_count": 14,
     "metadata": {},
     "output_type": "execute_result"
    }
   ],
   "source": [
    "y"
   ]
  },
  {
   "cell_type": "code",
   "execution_count": null,
   "id": "a2a685fb-96e7-484d-b0b9-1876c0293e97",
   "metadata": {},
   "outputs": [],
   "source": [
    "from NeuronLayer import NeuronLayer\n",
    "from ActivationFunctions import Sigmoid\n",
    "from CostFunctions import MeanSquaredError"
   ]
  },
  {
   "cell_type": "code",
   "execution_count": null,
   "id": "b8c30aa2-8ba9-4b6e-a355-a18315936683",
   "metadata": {},
   "outputs": [],
   "source": [
    "Layer = NeuronLayer(3, 8, Sigmoid)"
   ]
  },
  {
   "cell_type": "code",
   "execution_count": null,
   "id": "111991fe-2204-43ee-bc2e-b8c6e2fefbd6",
   "metadata": {},
   "outputs": [],
   "source": [
    "ActivationFunction = Sigmoid()\n",
    "CostFunction = MeanSquaredError()"
   ]
  },
  {
   "cell_type": "code",
   "execution_count": null,
   "id": "955f30d1-6a82-4c46-a0e6-54a85f3f31df",
   "metadata": {},
   "outputs": [],
   "source": [
    "y_estimate = Layer.feed_forward(x)\n",
    "\n",
    "y_estimate"
   ]
  },
  {
   "cell_type": "code",
   "execution_count": null,
   "id": "49ff8efd-52eb-4d10-a420-ad033a64cb73",
   "metadata": {},
   "outputs": [],
   "source": [
    "CostFunction.cost(y, y_estimate)"
   ]
  },
  {
   "cell_type": "code",
   "execution_count": null,
   "id": "22f4497f-eed4-463e-9d24-cd912ea9e467",
   "metadata": {},
   "outputs": [],
   "source": [
    "dC_dA = CostFunction.cost_derivative(y, y_estimate)\n",
    "\n",
    "dA_dZ = ActivationFunction.activation_derivative(y_estimate)\n",
    "\n",
    "dZ_dW = x"
   ]
  },
  {
   "cell_type": "code",
   "execution_count": null,
   "id": "0325bc0f-be57-45be-bd44-83ef1b47f5f8",
   "metadata": {},
   "outputs": [],
   "source": [
    "dC_dA"
   ]
  },
  {
   "cell_type": "code",
   "execution_count": null,
   "id": "1f85ead1-1d6e-4a6a-a116-1aea0ab15b43",
   "metadata": {},
   "outputs": [],
   "source": [
    "dA_dZ"
   ]
  },
  {
   "cell_type": "code",
   "execution_count": null,
   "id": "2f82e286-5e7d-4fcc-bd52-3513ef22f961",
   "metadata": {},
   "outputs": [],
   "source": [
    "dZ_dW"
   ]
  },
  {
   "cell_type": "code",
   "execution_count": null,
   "id": "f202bc17-1ec2-414e-95cb-50f5c83a7173",
   "metadata": {},
   "outputs": [],
   "source": [
    "dC_dW = dC_dA @ dA_dZ @ dZ_dW\n",
    "\n",
    "dC_dW"
   ]
  },
  {
   "cell_type": "code",
   "execution_count": null,
   "id": "4c776fb9-5d7d-48f7-8db4-0c1d123b06cf",
   "metadata": {},
   "outputs": [],
   "source": [
    "alpha = 0.2"
   ]
  },
  {
   "cell_type": "code",
   "execution_count": null,
   "id": "ac2d6ade-71a2-4f08-84be-e776afa014bb",
   "metadata": {},
   "outputs": [],
   "source": [
    "new_weights = Layer.weights - alpha * dC_dW.T\n",
    "\n",
    "new_weights"
   ]
  },
  {
   "cell_type": "code",
   "execution_count": null,
   "id": "27f25e92-5c07-4cf3-966e-6a93ec82b4ca",
   "metadata": {},
   "outputs": [],
   "source": [
    "Layer.weights = new_weights"
   ]
  },
  {
   "cell_type": "code",
   "execution_count": null,
   "id": "fca50240-c906-4345-abdc-757b78ac026b",
   "metadata": {},
   "outputs": [],
   "source": [
    "def back_propagate(x, y, y_estimate, Layer, alpha):\n",
    "    \n",
    "    C_dA = CostFunction.cost_derivative(y, y_estimate)\n",
    "\n",
    "    dA_dZ = ActivationFunction.activation_derivative(y_estimate)\n",
    "\n",
    "    dZ_dW = x\n",
    "    \n",
    "    dC_dW = dC_dA @ dA_dZ @ dZ_dW\n",
    "    \n",
    "    new_weights = Layer.weights - alpha * dC_dW.T\n",
    "    \n",
    "    Layer.weights = new_weights"
   ]
  },
  {
   "cell_type": "code",
   "execution_count": null,
   "id": "a0208ce4-67e5-45f7-8a68-540d0998dc62",
   "metadata": {},
   "outputs": [],
   "source": [
    "for i in range(2000):\n",
    "    back_propagate(x, y, y_estimate, Layer, alpha)"
   ]
  },
  {
   "cell_type": "code",
   "execution_count": null,
   "id": "9eb31f50-9a9b-4e21-84b7-fae2e6cfb0b5",
   "metadata": {},
   "outputs": [],
   "source": [
    "Layer.feed_forward(x)"
   ]
  },
  {
   "cell_type": "code",
   "execution_count": null,
   "id": "63be940e-9a8a-43ef-bd9e-67bfdb8274d2",
   "metadata": {},
   "outputs": [],
   "source": [
    "Layer.feed_forward(np.array([1, 1]))"
   ]
  },
  {
   "cell_type": "code",
   "execution_count": null,
   "id": "ac38e161-9721-4670-bb2a-b7e90a323717",
   "metadata": {},
   "outputs": [],
   "source": [
    "Layer.weights @ dA_dZ @ dC_dA"
   ]
  },
  {
   "cell_type": "code",
   "execution_count": null,
   "id": "01975cd5-9bda-4d2f-9ae1-18ffa95546bb",
   "metadata": {},
   "outputs": [],
   "source": [
    "C_dA = CostFunction.cost_derivative(y, y_estimate)\n",
    "\n",
    "dA_dZ = ActivationFunction.activation_derivative(y_estimate)\n",
    "\n",
    "dZ_dW = x\n",
    "    \n",
    "dC_dW = dC_dA * dA_dZ * dZ_dW\n",
    "    \n",
    "#new_weights = Layer.weights - alpha * dC_dW.T"
   ]
  },
  {
   "cell_type": "code",
   "execution_count": null,
   "id": "aca15ca8-6afa-49ab-87db-c8157f95020f",
   "metadata": {},
   "outputs": [],
   "source": [
    "Layer.weights @ (dC_dA * dA_dZ)"
   ]
  },
  {
   "cell_type": "code",
   "execution_count": null,
   "id": "752b8cbf-17f9-42be-9225-87ed268b1a4d",
   "metadata": {},
   "outputs": [],
   "source": [
    "(dC_dA * dA_dZ) @ Layer.weights.T"
   ]
  },
  {
   "cell_type": "code",
   "execution_count": null,
   "id": "3ef5d054-e5ba-429f-aa3e-f54db615acc8",
   "metadata": {},
   "outputs": [],
   "source": [
    "np.round(dC_dA, 2)"
   ]
  },
  {
   "cell_type": "code",
   "execution_count": null,
   "id": "4d7c6b01-bb55-476b-b68a-01fdc845fda2",
   "metadata": {},
   "outputs": [],
   "source": [
    "np.round(dA_dZ, 2)"
   ]
  },
  {
   "cell_type": "code",
   "execution_count": null,
   "id": "e0d7684f-8359-4740-b793-c42bb9cc4f8f",
   "metadata": {},
   "outputs": [],
   "source": [
    "np.round(dC_dA * dA_dZ, 2)"
   ]
  },
  {
   "cell_type": "code",
   "execution_count": null,
   "id": "9db15343-15a5-4bb5-977d-a533502f6f5e",
   "metadata": {},
   "outputs": [],
   "source": [
    "Layer.weights @ (dA_dZ * dC_dA)"
   ]
  },
  {
   "cell_type": "code",
   "execution_count": null,
   "id": "e8d9e6bf-c964-46db-a889-a26dbf0b527a",
   "metadata": {},
   "outputs": [],
   "source": [
    "Layer.weights"
   ]
  },
  {
   "cell_type": "code",
   "execution_count": null,
   "id": "da72c51b-4320-44c2-bfb1-f9e116fa0fe1",
   "metadata": {},
   "outputs": [],
   "source": [
    "a = np.random.randint(1, 5, size=(8, 5))\n",
    "a"
   ]
  },
  {
   "cell_type": "code",
   "execution_count": null,
   "id": "55bc9a59-eb92-425f-89a2-aa8123030cc0",
   "metadata": {},
   "outputs": [],
   "source": [
    "b = np.random.randint(0, 10, size=(8, 5))\n",
    "b"
   ]
  },
  {
   "cell_type": "code",
   "execution_count": null,
   "id": "00400bbb-253e-4b6f-82ed-6ef37988c3e8",
   "metadata": {},
   "outputs": [],
   "source": [
    "np.mean(a, axis=0)"
   ]
  },
  {
   "cell_type": "code",
   "execution_count": null,
   "id": "d53b28eb-13d6-4e1d-8818-07e73ef5ef51",
   "metadata": {},
   "outputs": [],
   "source": [
    "a * b"
   ]
  },
  {
   "cell_type": "code",
   "execution_count": null,
   "id": "29b8d11d-b113-4157-b1d2-4df85c078c88",
   "metadata": {},
   "outputs": [],
   "source": [
    "(dC_dA * dA_dZ) * x"
   ]
  },
  {
   "cell_type": "code",
   "execution_count": null,
   "id": "dfaff24b-866f-4635-9fd3-32488e7339ac",
   "metadata": {},
   "outputs": [],
   "source": [
    "(1/2) * np.mean((y_estimate - y)**2, axis=0)"
   ]
  },
  {
   "cell_type": "code",
   "execution_count": null,
   "id": "f4bb8285-61c5-45f0-baed-ac1d7f40bb78",
   "metadata": {},
   "outputs": [],
   "source": [
    "np.array([[2, 3, 4], [1, -9, 7]])**2"
   ]
  },
  {
   "cell_type": "code",
   "execution_count": null,
   "id": "318f4da6-744e-4ee9-b734-19072bbb1417",
   "metadata": {},
   "outputs": [],
   "source": [
    "y.shape"
   ]
  },
  {
   "cell_type": "code",
   "execution_count": null,
   "id": "528804d4-7b16-4689-be3f-0839b6c79ec4",
   "metadata": {},
   "outputs": [],
   "source": [
    "y_estimate.shape"
   ]
  },
  {
   "cell_type": "code",
   "execution_count": null,
   "id": "8b8fc3c6-8ff8-48e7-adee-0b25649fd29c",
   "metadata": {},
   "outputs": [],
   "source": [
    "samples, outputs = y.shape"
   ]
  },
  {
   "cell_type": "code",
   "execution_count": null,
   "id": "ba8adc8e-47c1-4175-bab3-80eda6675da4",
   "metadata": {},
   "outputs": [],
   "source": [
    "loss = CostFunction.cost_derivative(y, y_estimate)\n",
    "loss = loss.reshape((1, outputs))\n",
    "\n",
    "loss"
   ]
  },
  {
   "cell_type": "code",
   "execution_count": null,
   "id": "d6fd6b8a-f2a1-433a-a715-6ab271b27415",
   "metadata": {},
   "outputs": [],
   "source": [
    "((loss * dA_dZ) @ x).T"
   ]
  },
  {
   "cell_type": "code",
   "execution_count": null,
   "id": "b16dd024-a2c8-441a-bc25-a18b7db83d26",
   "metadata": {},
   "outputs": [],
   "source": [
    "np.array([2, 3, 4]) * np.array([[2, 3, 4], [1, -9, 7], [0, 0.5, 0.25]])"
   ]
  },
  {
   "cell_type": "code",
   "execution_count": null,
   "id": "b1ab85d6-bf0b-4d7f-864c-04a5b68aad33",
   "metadata": {},
   "outputs": [],
   "source": [
    "Layer.weights.shape"
   ]
  },
  {
   "cell_type": "markdown",
   "id": "eb6899e9-371b-4a94-a178-25d37ae8d5b8",
   "metadata": {
    "tags": []
   },
   "source": [
    "# Let's Test This in a More Seriuos Way"
   ]
  },
  {
   "cell_type": "code",
   "execution_count": 1,
   "id": "a39d2c91-6db5-4765-af38-9b6c152fcba7",
   "metadata": {},
   "outputs": [],
   "source": [
    "from NeuronLayer import NeuronLayer\n",
    "from ActivationFunctions import Sigmoid\n",
    "from CostFunctions import MeanSquaredError"
   ]
  },
  {
   "cell_type": "markdown",
   "id": "41ad27ec-6adb-488c-9867-f5dc57e5ef2d",
   "metadata": {
    "jp-MarkdownHeadingCollapsed": true,
    "tags": []
   },
   "source": [
    "## Set Things Up"
   ]
  },
  {
   "cell_type": "code",
   "execution_count": 2,
   "id": "cdaf01d5-b484-4be5-9db0-8615916cc139",
   "metadata": {},
   "outputs": [],
   "source": [
    "NUMBER_OF_INPUTS = 3\n",
    "NUMBER_OF_OUTPUTS = 8\n",
    "NEURONS_PER_LAYER = 5"
   ]
  },
  {
   "cell_type": "code",
   "execution_count": 5,
   "id": "c2de3e62-8931-4112-b9e7-1c8fe5e11b9c",
   "metadata": {},
   "outputs": [],
   "source": [
    "ActivationFunction = Sigmoid\n",
    "CostFunction = MeanSquaredError"
   ]
  },
  {
   "cell_type": "code",
   "execution_count": 6,
   "id": "705e87b5-0681-4919-bce8-23afb8057562",
   "metadata": {},
   "outputs": [],
   "source": [
    "FirstLayer = NeuronLayer(NUMBER_OF_INPUTS, NEURONS_PER_LAYER, ActivationFunction)\n",
    "SecondLayer = NeuronLayer(NEURONS_PER_LAYER, NUMBER_OF_OUTPUTS, ActivationFunction)"
   ]
  },
  {
   "cell_type": "markdown",
   "id": "5db6f19e-eaac-49f9-9056-413390e1c930",
   "metadata": {
    "tags": []
   },
   "source": [
    "## Start Computing"
   ]
  },
  {
   "cell_type": "markdown",
   "id": "dfc0b6b6-38ff-4a88-89a0-182f02f398a1",
   "metadata": {
    "tags": []
   },
   "source": [
    "### 1. FeedForward"
   ]
  },
  {
   "cell_type": "code",
   "execution_count": 21,
   "id": "a22adaba-cf92-4f7e-88bb-cfb7de5bfee5",
   "metadata": {},
   "outputs": [
    {
     "data": {
      "text/plain": [
       "array([[0.5       , 0.5       , 0.5       , 0.5       , 0.5       ],\n",
       "       [0.56629676, 0.57282604, 0.60955625, 0.60830436, 0.59851536],\n",
       "       [0.60646436, 0.60490568, 0.71045841, 0.55386138, 0.62803761],\n",
       "       [0.66801749, 0.6724614 , 0.7929925 , 0.65846809, 0.71567134],\n",
       "       [0.72429791, 0.71302924, 0.6024369 , 0.64027444, 0.691729  ],\n",
       "       [0.77428023, 0.76915266, 0.70288553, 0.73433822, 0.76985594],\n",
       "       [0.80192291, 0.79184623, 0.78805494, 0.68844085, 0.79117495],\n",
       "       [0.84092329, 0.83609851, 0.85304527, 0.77434853, 0.84957929]])"
      ]
     },
     "execution_count": 21,
     "metadata": {},
     "output_type": "execute_result"
    }
   ],
   "source": [
    "FirstLayer.feed_forward(x)"
   ]
  },
  {
   "cell_type": "code",
   "execution_count": 22,
   "id": "090fd816-89c3-42bf-b399-dfe2c7ecf799",
   "metadata": {},
   "outputs": [],
   "source": [
    "z0 = FirstLayer.output\n",
    "a0 = FirstLayer.activation"
   ]
  },
  {
   "cell_type": "code",
   "execution_count": 28,
   "id": "84d17be3-a8cd-4f44-a27e-bd0950cf7595",
   "metadata": {},
   "outputs": [
    {
     "data": {
      "text/plain": [
       "array([[0.82650212, 0.69637553, 0.77309684, 0.7272095 , 0.7745309 ,\n",
       "        0.76428434, 0.75164362, 0.70654924],\n",
       "       [0.8639953 , 0.72808209, 0.80911931, 0.75891399, 0.81286563,\n",
       "        0.80201897, 0.78714369, 0.73678977],\n",
       "       [0.87354957, 0.73672051, 0.82742935, 0.76890899, 0.81523566,\n",
       "        0.82191655, 0.78961956, 0.75020217],\n",
       "       [0.89919626, 0.76258992, 0.85243253, 0.79442717, 0.84548385,\n",
       "        0.8476705 , 0.81877475, 0.77412896],\n",
       "       [0.89021655, 0.75487736, 0.83707455, 0.79286787, 0.840778  ,\n",
       "        0.82577715, 0.8188971 , 0.76677984],\n",
       "       [0.91164187, 0.77769641, 0.86073907, 0.81438006, 0.86509022,\n",
       "        0.85128766, 0.84204825, 0.78845287],\n",
       "       [0.91659057, 0.78321633, 0.87195825, 0.82037368, 0.86594001,\n",
       "        0.86405271, 0.84280259, 0.79731882],\n",
       "       [0.92984733, 0.79948909, 0.88633888, 0.83562032, 0.88328507,\n",
       "        0.87913955, 0.8599665 , 0.81223817]])"
      ]
     },
     "execution_count": 28,
     "metadata": {},
     "output_type": "execute_result"
    }
   ],
   "source": [
    "SecondLayer.feed_forward(a0)"
   ]
  },
  {
   "cell_type": "code",
   "execution_count": 32,
   "id": "3be20f22-1f82-4951-84bf-978eedf18d64",
   "metadata": {},
   "outputs": [],
   "source": [
    "z1 = SecondLayer.output\n",
    "a1 = SecondLayer.activation"
   ]
  },
  {
   "cell_type": "markdown",
   "id": "a0fcab64-9594-4def-b468-e68003bd26b0",
   "metadata": {
    "tags": []
   },
   "source": [
    "### 2. BackPropagation"
   ]
  },
  {
   "cell_type": "code",
   "execution_count": 64,
   "id": "b88db70f-ded1-4a46-9df2-47fcd3ba364f",
   "metadata": {},
   "outputs": [],
   "source": [
    "dC_dA1 = CostFunction().cost(y, a1).reshape(1, NUMBER_OF_OUTPUTS)\n",
    "dA1_dZ1 = ActivationFunction().activation_derivative(z1)\n",
    "dZ1_dW1 = a0"
   ]
  },
  {
   "cell_type": "code",
   "execution_count": 68,
   "id": "a13bf811-2c3f-46e8-af0f-bf6ed1564aea",
   "metadata": {},
   "outputs": [
    {
     "data": {
      "text/plain": [
       "array([[0.29495407, 0.29377925, 0.29924367, 0.27747642, 0.29836612],\n",
       "       [0.26424046, 0.26321822, 0.26851458, 0.24870058, 0.2674828 ],\n",
       "       [0.25425258, 0.25325949, 0.25823217, 0.23922131, 0.25733562],\n",
       "       [0.22767826, 0.22681765, 0.23162567, 0.21434678, 0.23060301],\n",
       "       [0.23670503, 0.23580827, 0.24064441, 0.22291309, 0.23970293],\n",
       "       [0.21234279, 0.21156367, 0.21620543, 0.20008591, 0.21517438],\n",
       "       [0.20539483, 0.2046341 , 0.20903212, 0.19348133, 0.20810415],\n",
       "       [0.1878376 , 0.18716302, 0.19142345, 0.17705019, 0.19042702]])"
      ]
     },
     "execution_count": 68,
     "metadata": {},
     "output_type": "execute_result"
    }
   ],
   "source": [
    "(dC_dA1 * dA1_dZ1) @ dZ1_dW1"
   ]
  },
  {
   "cell_type": "code",
   "execution_count": 91,
   "id": "b1bd3852-0ae3-4085-b1a7-64e1172ddfce",
   "metadata": {},
   "outputs": [
    {
     "data": {
      "text/plain": [
       "(5, 8)"
      ]
     },
     "execution_count": 91,
     "metadata": {},
     "output_type": "execute_result"
    }
   ],
   "source": [
    "SecondLayer.weights.shape"
   ]
  },
  {
   "cell_type": "code",
   "execution_count": 73,
   "id": "1e88589d-c8e4-46d9-9f04-9c92a1827a8a",
   "metadata": {},
   "outputs": [],
   "source": [
    "dZ1_dA0 = SecondLayer.weights\n",
    "dA0_dZ0 = ActivationFunction().activation_derivative(z0)\n",
    "dZ0_dW0 = x"
   ]
  },
  {
   "cell_type": "code",
   "execution_count": 88,
   "id": "b4b44874-8343-4206-a992-dd9514118f7e",
   "metadata": {},
   "outputs": [
    {
     "data": {
      "text/plain": [
       "array([[0.69346208, 0.72698399, 0.74769173],\n",
       "       [0.61461055, 0.64445067, 0.66282139],\n",
       "       [0.58946214, 0.61840305, 0.63578279],\n",
       "       [0.5226454 , 0.54839482, 0.56383469],\n",
       "       [0.54619802, 0.57269945, 0.58909243],\n",
       "       [0.48536204, 0.50901845, 0.52359071],\n",
       "       [0.4683022 , 0.49137153, 0.50524733],\n",
       "       [0.42514819, 0.44613703, 0.45876293]])"
      ]
     },
     "execution_count": 88,
     "metadata": {},
     "output_type": "execute_result"
    }
   ],
   "source": [
    "(dC_dA1 * dA1_dZ1) @ dZ1_dA0.T @ dA0_dZ0.T @ dZ0_dW0"
   ]
  },
  {
   "cell_type": "code",
   "execution_count": 92,
   "id": "e7076cd1-f97d-4f70-a151-ea3507bbf9d8",
   "metadata": {},
   "outputs": [
    {
     "data": {
      "text/plain": [
       "(3, 5)"
      ]
     },
     "execution_count": 92,
     "metadata": {},
     "output_type": "execute_result"
    }
   ],
   "source": [
    "FirstLayer.weights.shape"
   ]
  },
  {
   "cell_type": "markdown",
   "id": "eea75296-7c0b-46ea-ab4b-f63f90fb0f28",
   "metadata": {},
   "source": [
    "# Now in a More Serious Way (Add One Layer and Split Dataset into Train and Test)"
   ]
  },
  {
   "cell_type": "code",
   "execution_count": 1,
   "id": "81e96453-efe8-4a3e-8f51-98cdd453d040",
   "metadata": {},
   "outputs": [],
   "source": [
    "from NeuronLayer import NeuronLayer\n",
    "from ActivationFunctions import Sigmoid\n",
    "from CostFunctions import MeanSquaredError"
   ]
  },
  {
   "cell_type": "markdown",
   "id": "4804db69-dac2-444a-8aa7-0785bede2d7e",
   "metadata": {
    "jp-MarkdownHeadingCollapsed": true,
    "tags": []
   },
   "source": [
    "## Set Things Up"
   ]
  },
  {
   "cell_type": "code",
   "execution_count": 2,
   "id": "28fcd9f6-8312-417c-92d7-4e6041e55674",
   "metadata": {},
   "outputs": [],
   "source": [
    "NUMBER_OF_INPUTS = 3\n",
    "NUMBER_OF_OUTPUTS = 8\n",
    "NEURONS_PER_LAYER = 5"
   ]
  },
  {
   "cell_type": "code",
   "execution_count": 3,
   "id": "c57da3ea-d7ca-4f04-b11e-85146d387618",
   "metadata": {},
   "outputs": [],
   "source": [
    "ActivationFunction = Sigmoid\n",
    "CostFunction = MeanSquaredError"
   ]
  },
  {
   "cell_type": "code",
   "execution_count": 4,
   "id": "f2331eaf-8419-439a-b3ff-fc65fcb0e3ff",
   "metadata": {},
   "outputs": [],
   "source": [
    "InputLayer = NeuronLayer(NUMBER_OF_INPUTS, NEURONS_PER_LAYER, ActivationFunction)\n",
    "HiddenLayer = NeuronLayer(NEURONS_PER_LAYER, NEURONS_PER_LAYER, ActivationFunction)\n",
    "OutputLayer = NeuronLayer(NEURONS_PER_LAYER, NUMBER_OF_OUTPUTS, ActivationFunction)"
   ]
  },
  {
   "cell_type": "code",
   "execution_count": 64,
   "id": "e3a4bff8-7841-4d26-aba4-46a686bb22a7",
   "metadata": {},
   "outputs": [
    {
     "name": "stdout",
     "output_type": "stream",
     "text": [
      "Neuron Architecture: (3, 5) by (5, 5) by (5, 8).\n"
     ]
    }
   ],
   "source": [
    "print(f\"\"\"Neuron Architecture: {InputLayer.weights.shape} by {HiddenLayer.weights.shape} by {OutputLayer.weights.shape}.\"\"\")"
   ]
  },
  {
   "cell_type": "markdown",
   "id": "2cb4ebb5-d67e-49b2-9bc3-70bfe61fea9c",
   "metadata": {
    "jp-MarkdownHeadingCollapsed": true,
    "tags": []
   },
   "source": [
    "## Train-Test Split"
   ]
  },
  {
   "cell_type": "code",
   "execution_count": 73,
   "id": "1977cc83-3494-4897-94b5-25e2cab4e3ba",
   "metadata": {},
   "outputs": [],
   "source": [
    "TOTAL_SAMPLES = x.shape[0]\n",
    "TRAINING_PERCENTAGE = 80\n",
    "TRAIN_SAMPLES = int(np.floor(TRAINING_PERCENTAGE * TOTAL_SAMPLES / 100))\n",
    "TEST_SAMPLES = int(TOTAL_SAMPLES - TRAIN_SAMPLES)"
   ]
  },
  {
   "cell_type": "code",
   "execution_count": 74,
   "id": "ffe25079-ed24-4f26-ae52-98de2216958d",
   "metadata": {},
   "outputs": [
    {
     "name": "stdout",
     "output_type": "stream",
     "text": [
      "There are 6 train samples and 2 test samples.\n"
     ]
    }
   ],
   "source": [
    "print(f\"\"\"There are {TRAIN_SAMPLES} train samples and {TEST_SAMPLES} test samples.\"\"\")"
   ]
  },
  {
   "cell_type": "code",
   "execution_count": 78,
   "id": "abc704f1-90fa-482c-92ed-13c3bb503854",
   "metadata": {},
   "outputs": [],
   "source": [
    "x_train = x[0:TRAIN_SAMPLES]\n",
    "x_test = x[TRAIN_SAMPLES:]\n",
    "\n",
    "y_train = y[0:TRAIN_SAMPLES]\n",
    "y_test = y[TRAIN_SAMPLES:]"
   ]
  },
  {
   "cell_type": "markdown",
   "id": "e5110be3-c223-42ae-a685-04f45713b8c1",
   "metadata": {
    "tags": []
   },
   "source": [
    "## Start Computing"
   ]
  },
  {
   "cell_type": "markdown",
   "id": "3a5858b1-5e9f-4531-8150-a3f35879bfd9",
   "metadata": {
    "tags": []
   },
   "source": [
    "### 1. FeedForward"
   ]
  },
  {
   "cell_type": "markdown",
   "id": "d2bef491-96fb-4e3e-9f90-1815d0f5e6a7",
   "metadata": {
    "jp-MarkdownHeadingCollapsed": true,
    "tags": []
   },
   "source": [
    "#### Input Layer"
   ]
  },
  {
   "cell_type": "code",
   "execution_count": 81,
   "id": "1f7ff595-44fe-4978-b317-2c767f8e3eff",
   "metadata": {},
   "outputs": [
    {
     "data": {
      "text/plain": [
       "array([[0.5       , 0.5       , 0.5       , 0.5       , 0.5       ],\n",
       "       [0.62502381, 0.71809583, 0.67714023, 0.65836728, 0.68514117],\n",
       "       [0.56284025, 0.72165111, 0.61328003, 0.56131166, 0.72185861],\n",
       "       [0.68214011, 0.86849333, 0.76884149, 0.71146581, 0.84956588],\n",
       "       [0.55983122, 0.56265073, 0.55632599, 0.72471034, 0.66559659],\n",
       "       [0.67948462, 0.76619742, 0.7245061 , 0.83534259, 0.81242369]])"
      ]
     },
     "execution_count": 81,
     "metadata": {},
     "output_type": "execute_result"
    }
   ],
   "source": [
    "InputLayer.feed_forward(x_train)"
   ]
  },
  {
   "cell_type": "code",
   "execution_count": 82,
   "id": "087b19ca-977e-4a13-af20-068d2cab2554",
   "metadata": {},
   "outputs": [],
   "source": [
    "z0 = InputLayer.output\n",
    "a0 = InputLayer.activation"
   ]
  },
  {
   "cell_type": "markdown",
   "id": "4b1db31a-56a3-471f-b5f1-0bf8f4b459d2",
   "metadata": {
    "jp-MarkdownHeadingCollapsed": true,
    "tags": []
   },
   "source": [
    "#### Hidden Layer"
   ]
  },
  {
   "cell_type": "code",
   "execution_count": 85,
   "id": "0817c062-46a1-4b61-bd30-845e5f736cd1",
   "metadata": {},
   "outputs": [
    {
     "data": {
      "text/plain": [
       "array([[0.72260072, 0.84688542, 0.80928319, 0.78126444, 0.75803131],\n",
       "       [0.78628199, 0.90888047, 0.87627444, 0.85032984, 0.82434497],\n",
       "       [0.77436516, 0.90125139, 0.86473158, 0.83560352, 0.8111514 ],\n",
       "       [0.81884871, 0.93556899, 0.90558232, 0.88071542, 0.85547307],\n",
       "       [0.77855877, 0.88976156, 0.85958008, 0.82097144, 0.80146836],\n",
       "       [0.82307822, 0.93096639, 0.90444634, 0.87400939, 0.85174592]])"
      ]
     },
     "execution_count": 85,
     "metadata": {},
     "output_type": "execute_result"
    }
   ],
   "source": [
    "HiddenLayer.feed_forward(a0)"
   ]
  },
  {
   "cell_type": "code",
   "execution_count": 86,
   "id": "f4599b50-9e3d-43eb-9222-6097cbe7fa00",
   "metadata": {},
   "outputs": [],
   "source": [
    "z1 = HiddenLayer.output\n",
    "a1 = HiddenLayer.activation"
   ]
  },
  {
   "cell_type": "markdown",
   "id": "affbe5e7-81ed-40f3-b4b8-6fe1310ceb7b",
   "metadata": {
    "jp-MarkdownHeadingCollapsed": true,
    "tags": []
   },
   "source": [
    "#### Output Layer"
   ]
  },
  {
   "cell_type": "code",
   "execution_count": 89,
   "id": "7c157cbb-c9b3-4831-8d38-b4890d878e6c",
   "metadata": {},
   "outputs": [
    {
     "data": {
      "text/plain": [
       "array([[0.82823353, 0.76970666, 0.93152007, 0.84505241, 0.86268879,\n",
       "        0.94639104, 0.81531604, 0.90043057],\n",
       "       [0.84636402, 0.78698966, 0.94407792, 0.86297482, 0.87923142,\n",
       "        0.95734824, 0.83251013, 0.91596222],\n",
       "       [0.84323026, 0.78401177, 0.94204862, 0.85970593, 0.87666387,\n",
       "        0.95556218, 0.82979451, 0.91327942],\n",
       "       [0.85437617, 0.79444004, 0.94905289, 0.87035326, 0.88593695,\n",
       "        0.96164498, 0.83972985, 0.92233386],\n",
       "       [0.84242763, 0.78215725, 0.94063979, 0.85688192, 0.87448966,\n",
       "        0.95447829, 0.8270504 , 0.91185943],\n",
       "       [0.85441052, 0.79386978, 0.94863908, 0.86927749, 0.88520413,\n",
       "        0.96135964, 0.83869996, 0.92196905]])"
      ]
     },
     "execution_count": 89,
     "metadata": {},
     "output_type": "execute_result"
    }
   ],
   "source": [
    "OutputLayer.feed_forward(a1)"
   ]
  },
  {
   "cell_type": "code",
   "execution_count": 90,
   "id": "46073183-a06f-4073-b413-cc848feeb172",
   "metadata": {},
   "outputs": [],
   "source": [
    "z2 = OutputLayer.output\n",
    "a2 = OutputLayer.activation"
   ]
  },
  {
   "cell_type": "markdown",
   "id": "43f97ead-7a1f-460c-9319-542b826d4ef0",
   "metadata": {},
   "source": [
    "### 2. BackPropagation"
   ]
  },
  {
   "cell_type": "markdown",
   "id": "b659f846-4af6-457d-b0d8-031ed4ff3bf3",
   "metadata": {
    "tags": []
   },
   "source": [
    "#### Output Layer"
   ]
  },
  {
   "cell_type": "code",
   "execution_count": 93,
   "id": "f2bd531c-d3ca-4af3-8822-ef3138edb3c9",
   "metadata": {},
   "outputs": [],
   "source": [
    "dC_dA2 = CostFunction().cost(y_train, a2).reshape(1, NUMBER_OF_OUTPUTS)\n",
    "dA2_dZ2 = ActivationFunction().activation_derivative(z2)\n",
    "dZ2_dW2 = a1"
   ]
  },
  {
   "cell_type": "code",
   "execution_count": 109,
   "id": "02b54284-043c-46c3-af7a-5447db782f36",
   "metadata": {},
   "outputs": [],
   "source": [
    "dC_dZ2 = (dA2_dZ2 * dC_dA2)"
   ]
  },
  {
   "cell_type": "code",
   "execution_count": 113,
   "id": "0b40def3-a59f-4f42-a5f7-6ec3d6606190",
   "metadata": {},
   "outputs": [],
   "source": [
    "dC_dW2 = dZ2_dW2.T @ dC_dZ2"
   ]
  },
  {
   "cell_type": "markdown",
   "id": "a5cf2ada-d786-4e94-af43-7410c6d4557e",
   "metadata": {},
   "source": [
    "#### Hidden Layer"
   ]
  },
  {
   "cell_type": "code",
   "execution_count": 114,
   "id": "d7478244-aa47-4e3e-b488-654e8d775d2a",
   "metadata": {},
   "outputs": [],
   "source": [
    "dZ2_dA1 = OutputLayer.weights\n",
    "dA1_dZ1 = ActivationFunction().activation_derivative(z1)\n",
    "dZ1_dW1 = a0"
   ]
  },
  {
   "cell_type": "code",
   "execution_count": 135,
   "id": "5eb35f07-b53b-4979-8bf6-811f4577f665",
   "metadata": {},
   "outputs": [
    {
     "data": {
      "text/plain": [
       "array([[0.1116404 , 0.09876462, 0.1009508 , 0.09334475, 0.10237222,\n",
       "        0.09377897],\n",
       "       [0.0827701 , 0.07318217, 0.07481116, 0.06914589, 0.07586178,\n",
       "        0.06946485],\n",
       "       [0.08819916, 0.07798977, 0.07972433, 0.07369194, 0.0808447 ,\n",
       "        0.07403252],\n",
       "       [0.0678475 , 0.05996509, 0.06130492, 0.05664659, 0.06216441,\n",
       "        0.05690644],\n",
       "       [0.09194275, 0.08131397, 0.08311944, 0.0768401 , 0.08429029,\n",
       "        0.07719716],\n",
       "       [0.06929443, 0.06125164, 0.06261858, 0.05786593, 0.06349825,\n",
       "        0.05813258]])"
      ]
     },
     "execution_count": 135,
     "metadata": {},
     "output_type": "execute_result"
    }
   ],
   "source": [
    "(dA1_dZ1 @ dZ2_dA1) @ dC_dZ2.T"
   ]
  },
  {
   "cell_type": "code",
   "execution_count": 120,
   "id": "acf31137-7f70-41da-aec0-b858c6dbbc9a",
   "metadata": {},
   "outputs": [
    {
     "data": {
      "text/plain": [
       "(5, 8)"
      ]
     },
     "execution_count": 120,
     "metadata": {},
     "output_type": "execute_result"
    }
   ],
   "source": []
  },
  {
   "cell_type": "code",
   "execution_count": null,
   "id": "cf73693d-9cfe-433c-b932-a81ae13372b5",
   "metadata": {},
   "outputs": [],
   "source": []
  }
 ],
 "metadata": {
  "kernelspec": {
   "display_name": "Python 3 (ipykernel)",
   "language": "python",
   "name": "python3"
  },
  "language_info": {
   "codemirror_mode": {
    "name": "ipython",
    "version": 3
   },
   "file_extension": ".py",
   "mimetype": "text/x-python",
   "name": "python",
   "nbconvert_exporter": "python",
   "pygments_lexer": "ipython3",
   "version": "3.9.10"
  }
 },
 "nbformat": 4,
 "nbformat_minor": 5
}
